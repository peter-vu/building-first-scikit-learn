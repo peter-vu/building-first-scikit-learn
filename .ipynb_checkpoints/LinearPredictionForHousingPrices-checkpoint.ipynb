{
 "cells": [
  {
   "cell_type": "code",
   "execution_count": 2,
   "metadata": {},
   "outputs": [],
   "source": [
    "import pandas as pd\n",
    "import matplotlib.pyplot as plt"
   ]
  },
  {
   "cell_type": "code",
   "execution_count": 3,
   "metadata": {},
   "outputs": [
    {
     "data": {
      "text/html": [
       "<div>\n",
       "<style scoped>\n",
       "    .dataframe tbody tr th:only-of-type {\n",
       "        vertical-align: middle;\n",
       "    }\n",
       "\n",
       "    .dataframe tbody tr th {\n",
       "        vertical-align: top;\n",
       "    }\n",
       "\n",
       "    .dataframe thead th {\n",
       "        text-align: right;\n",
       "    }\n",
       "</style>\n",
       "<table border=\"1\" class=\"dataframe\">\n",
       "  <thead>\n",
       "    <tr style=\"text-align: right;\">\n",
       "      <th></th>\n",
       "      <th>longitude</th>\n",
       "      <th>latitude</th>\n",
       "      <th>housing_median_age</th>\n",
       "      <th>total_rooms</th>\n",
       "      <th>total_bedrooms</th>\n",
       "      <th>population</th>\n",
       "      <th>households</th>\n",
       "      <th>median_income</th>\n",
       "      <th>median_house_value</th>\n",
       "      <th>ocean_proximity</th>\n",
       "    </tr>\n",
       "  </thead>\n",
       "  <tbody>\n",
       "    <tr>\n",
       "      <th>20355</th>\n",
       "      <td>-118.96</td>\n",
       "      <td>34.19</td>\n",
       "      <td>16.0</td>\n",
       "      <td>1807.0</td>\n",
       "      <td>346.0</td>\n",
       "      <td>587.0</td>\n",
       "      <td>296.0</td>\n",
       "      <td>1.9811</td>\n",
       "      <td>162500.0</td>\n",
       "      <td>&lt;1H OCEAN</td>\n",
       "    </tr>\n",
       "    <tr>\n",
       "      <th>18427</th>\n",
       "      <td>-121.83</td>\n",
       "      <td>37.25</td>\n",
       "      <td>17.0</td>\n",
       "      <td>2332.0</td>\n",
       "      <td>637.0</td>\n",
       "      <td>1636.0</td>\n",
       "      <td>623.0</td>\n",
       "      <td>3.1932</td>\n",
       "      <td>123400.0</td>\n",
       "      <td>&lt;1H OCEAN</td>\n",
       "    </tr>\n",
       "    <tr>\n",
       "      <th>4677</th>\n",
       "      <td>-118.34</td>\n",
       "      <td>34.08</td>\n",
       "      <td>52.0</td>\n",
       "      <td>1421.0</td>\n",
       "      <td>163.0</td>\n",
       "      <td>495.0</td>\n",
       "      <td>167.0</td>\n",
       "      <td>10.5860</td>\n",
       "      <td>500001.0</td>\n",
       "      <td>&lt;1H OCEAN</td>\n",
       "    </tr>\n",
       "    <tr>\n",
       "      <th>8069</th>\n",
       "      <td>-118.18</td>\n",
       "      <td>33.83</td>\n",
       "      <td>39.0</td>\n",
       "      <td>3622.0</td>\n",
       "      <td>745.0</td>\n",
       "      <td>1330.0</td>\n",
       "      <td>648.0</td>\n",
       "      <td>3.3125</td>\n",
       "      <td>425500.0</td>\n",
       "      <td>NEAR OCEAN</td>\n",
       "    </tr>\n",
       "    <tr>\n",
       "      <th>13939</th>\n",
       "      <td>-117.27</td>\n",
       "      <td>34.23</td>\n",
       "      <td>26.0</td>\n",
       "      <td>6339.0</td>\n",
       "      <td>1244.0</td>\n",
       "      <td>1177.0</td>\n",
       "      <td>466.0</td>\n",
       "      <td>3.7708</td>\n",
       "      <td>110400.0</td>\n",
       "      <td>INLAND</td>\n",
       "    </tr>\n",
       "  </tbody>\n",
       "</table>\n",
       "</div>"
      ],
      "text/plain": [
       "       longitude  latitude  housing_median_age  total_rooms  total_bedrooms  \\\n",
       "20355    -118.96     34.19                16.0       1807.0           346.0   \n",
       "18427    -121.83     37.25                17.0       2332.0           637.0   \n",
       "4677     -118.34     34.08                52.0       1421.0           163.0   \n",
       "8069     -118.18     33.83                39.0       3622.0           745.0   \n",
       "13939    -117.27     34.23                26.0       6339.0          1244.0   \n",
       "\n",
       "       population  households  median_income  median_house_value  \\\n",
       "20355       587.0       296.0         1.9811            162500.0   \n",
       "18427      1636.0       623.0         3.1932            123400.0   \n",
       "4677        495.0       167.0        10.5860            500001.0   \n",
       "8069       1330.0       648.0         3.3125            425500.0   \n",
       "13939      1177.0       466.0         3.7708            110400.0   \n",
       "\n",
       "      ocean_proximity  \n",
       "20355       <1H OCEAN  \n",
       "18427       <1H OCEAN  \n",
       "4677        <1H OCEAN  \n",
       "8069       NEAR OCEAN  \n",
       "13939          INLAND  "
      ]
     },
     "execution_count": 3,
     "metadata": {},
     "output_type": "execute_result"
    }
   ],
   "source": [
    "housing_data = pd.read_csv('datasets/housing.csv')\n",
    "housing_data.sample(5)"
   ]
  },
  {
   "cell_type": "code",
   "execution_count": 4,
   "metadata": {},
   "outputs": [
    {
     "data": {
      "text/plain": [
       "longitude             965\n",
       "latitude              965\n",
       "housing_median_age    965\n",
       "total_rooms           965\n",
       "total_bedrooms        958\n",
       "population            965\n",
       "households            965\n",
       "median_income         965\n",
       "median_house_value    965\n",
       "ocean_proximity       965\n",
       "dtype: int64"
      ]
     },
     "execution_count": 4,
     "metadata": {},
     "output_type": "execute_result"
    }
   ],
   "source": [
    "housing_data.loc[housing_data['median_house_value'] == 500001].count()"
   ]
  },
  {
   "cell_type": "code",
   "execution_count": 16,
   "metadata": {},
   "outputs": [],
   "source": [
    "housing_data = housing_data.drop(housing_data.loc[housing_data['median_house_value'] == 500001].index)"
   ]
  },
  {
   "cell_type": "code",
   "execution_count": 17,
   "metadata": {},
   "outputs": [
    {
     "data": {
      "text/plain": [
       "(19675, 10)"
      ]
     },
     "execution_count": 17,
     "metadata": {},
     "output_type": "execute_result"
    }
   ],
   "source": [
    "housing_data.shape"
   ]
  },
  {
   "cell_type": "code",
   "execution_count": 18,
   "metadata": {},
   "outputs": [
    {
     "data": {
      "text/plain": [
       "array(['NEAR BAY', '<1H OCEAN', 'INLAND', 'NEAR OCEAN', 'ISLAND'],\n",
       "      dtype=object)"
      ]
     },
     "execution_count": 18,
     "metadata": {},
     "output_type": "execute_result"
    }
   ],
   "source": [
    "housing_data['ocean_proximity'].unique()"
   ]
  },
  {
   "cell_type": "code",
   "execution_count": 19,
   "metadata": {},
   "outputs": [],
   "source": [
    "housing_data = pd.get_dummies(housing_data, columns=['ocean_proximity'])"
   ]
  },
  {
   "cell_type": "code",
   "execution_count": 25,
   "metadata": {},
   "outputs": [
    {
     "data": {
      "text/plain": [
       "(19675, 14)"
      ]
     },
     "execution_count": 25,
     "metadata": {},
     "output_type": "execute_result"
    }
   ],
   "source": [
    "housing_data.shape"
   ]
  },
  {
   "cell_type": "code",
   "execution_count": 24,
   "metadata": {},
   "outputs": [
    {
     "data": {
      "text/html": [
       "<div>\n",
       "<style scoped>\n",
       "    .dataframe tbody tr th:only-of-type {\n",
       "        vertical-align: middle;\n",
       "    }\n",
       "\n",
       "    .dataframe tbody tr th {\n",
       "        vertical-align: top;\n",
       "    }\n",
       "\n",
       "    .dataframe thead th {\n",
       "        text-align: right;\n",
       "    }\n",
       "</style>\n",
       "<table border=\"1\" class=\"dataframe\">\n",
       "  <thead>\n",
       "    <tr style=\"text-align: right;\">\n",
       "      <th></th>\n",
       "      <th>longitude</th>\n",
       "      <th>latitude</th>\n",
       "      <th>housing_median_age</th>\n",
       "      <th>total_rooms</th>\n",
       "      <th>total_bedrooms</th>\n",
       "      <th>population</th>\n",
       "      <th>households</th>\n",
       "      <th>median_income</th>\n",
       "      <th>median_house_value</th>\n",
       "      <th>ocean_proximity_&lt;1H OCEAN</th>\n",
       "      <th>ocean_proximity_INLAND</th>\n",
       "      <th>ocean_proximity_ISLAND</th>\n",
       "      <th>ocean_proximity_NEAR BAY</th>\n",
       "      <th>ocean_proximity_NEAR OCEAN</th>\n",
       "    </tr>\n",
       "  </thead>\n",
       "  <tbody>\n",
       "    <tr>\n",
       "      <th>2889</th>\n",
       "      <td>-118.99</td>\n",
       "      <td>35.39</td>\n",
       "      <td>52.0</td>\n",
       "      <td>2805.0</td>\n",
       "      <td>573.0</td>\n",
       "      <td>1325.0</td>\n",
       "      <td>522.0</td>\n",
       "      <td>2.5083</td>\n",
       "      <td>70100.0</td>\n",
       "      <td>0</td>\n",
       "      <td>1</td>\n",
       "      <td>0</td>\n",
       "      <td>0</td>\n",
       "      <td>0</td>\n",
       "    </tr>\n",
       "    <tr>\n",
       "      <th>17699</th>\n",
       "      <td>-121.82</td>\n",
       "      <td>37.28</td>\n",
       "      <td>31.0</td>\n",
       "      <td>1340.0</td>\n",
       "      <td>235.0</td>\n",
       "      <td>1336.0</td>\n",
       "      <td>270.0</td>\n",
       "      <td>4.2361</td>\n",
       "      <td>179500.0</td>\n",
       "      <td>1</td>\n",
       "      <td>0</td>\n",
       "      <td>0</td>\n",
       "      <td>0</td>\n",
       "      <td>0</td>\n",
       "    </tr>\n",
       "    <tr>\n",
       "      <th>2423</th>\n",
       "      <td>-119.55</td>\n",
       "      <td>36.60</td>\n",
       "      <td>18.0</td>\n",
       "      <td>2379.0</td>\n",
       "      <td>448.0</td>\n",
       "      <td>1638.0</td>\n",
       "      <td>436.0</td>\n",
       "      <td>2.3090</td>\n",
       "      <td>57100.0</td>\n",
       "      <td>0</td>\n",
       "      <td>1</td>\n",
       "      <td>0</td>\n",
       "      <td>0</td>\n",
       "      <td>0</td>\n",
       "    </tr>\n",
       "    <tr>\n",
       "      <th>18224</th>\n",
       "      <td>-122.09</td>\n",
       "      <td>37.40</td>\n",
       "      <td>36.0</td>\n",
       "      <td>1575.0</td>\n",
       "      <td>379.0</td>\n",
       "      <td>1036.0</td>\n",
       "      <td>382.0</td>\n",
       "      <td>5.1408</td>\n",
       "      <td>264700.0</td>\n",
       "      <td>0</td>\n",
       "      <td>0</td>\n",
       "      <td>0</td>\n",
       "      <td>1</td>\n",
       "      <td>0</td>\n",
       "    </tr>\n",
       "    <tr>\n",
       "      <th>9078</th>\n",
       "      <td>-118.14</td>\n",
       "      <td>34.69</td>\n",
       "      <td>48.0</td>\n",
       "      <td>1379.0</td>\n",
       "      <td>327.0</td>\n",
       "      <td>696.0</td>\n",
       "      <td>304.0</td>\n",
       "      <td>2.1167</td>\n",
       "      <td>94900.0</td>\n",
       "      <td>0</td>\n",
       "      <td>1</td>\n",
       "      <td>0</td>\n",
       "      <td>0</td>\n",
       "      <td>0</td>\n",
       "    </tr>\n",
       "  </tbody>\n",
       "</table>\n",
       "</div>"
      ],
      "text/plain": [
       "       longitude  latitude  housing_median_age  total_rooms  total_bedrooms  \\\n",
       "2889     -118.99     35.39                52.0       2805.0           573.0   \n",
       "17699    -121.82     37.28                31.0       1340.0           235.0   \n",
       "2423     -119.55     36.60                18.0       2379.0           448.0   \n",
       "18224    -122.09     37.40                36.0       1575.0           379.0   \n",
       "9078     -118.14     34.69                48.0       1379.0           327.0   \n",
       "\n",
       "       population  households  median_income  median_house_value  \\\n",
       "2889       1325.0       522.0         2.5083             70100.0   \n",
       "17699      1336.0       270.0         4.2361            179500.0   \n",
       "2423       1638.0       436.0         2.3090             57100.0   \n",
       "18224      1036.0       382.0         5.1408            264700.0   \n",
       "9078        696.0       304.0         2.1167             94900.0   \n",
       "\n",
       "       ocean_proximity_<1H OCEAN  ocean_proximity_INLAND  \\\n",
       "2889                           0                       1   \n",
       "17699                          1                       0   \n",
       "2423                           0                       1   \n",
       "18224                          0                       0   \n",
       "9078                           0                       1   \n",
       "\n",
       "       ocean_proximity_ISLAND  ocean_proximity_NEAR BAY  \\\n",
       "2889                        0                         0   \n",
       "17699                       0                         0   \n",
       "2423                        0                         0   \n",
       "18224                       0                         1   \n",
       "9078                        0                         0   \n",
       "\n",
       "       ocean_proximity_NEAR OCEAN  \n",
       "2889                            0  \n",
       "17699                           0  \n",
       "2423                            0  \n",
       "18224                           0  \n",
       "9078                            0  "
      ]
     },
     "execution_count": 24,
     "metadata": {},
     "output_type": "execute_result"
    }
   ],
   "source": [
    "housing_data.sample(5)"
   ]
  },
  {
   "cell_type": "code",
   "execution_count": 23,
   "metadata": {},
   "outputs": [
    {
     "ename": "TypeError",
     "evalue": "'DataFrame' object is not callable",
     "output_type": "error",
     "traceback": [
      "\u001b[1;31m---------------------------------------------------------------------------\u001b[0m",
      "\u001b[1;31mTypeError\u001b[0m                                 Traceback (most recent call last)",
      "\u001b[1;32m<ipython-input-23-a9da2f1b726f>\u001b[0m in \u001b[0;36m<module>\u001b[1;34m\u001b[0m\n\u001b[0;32m      1\u001b[0m \u001b[0mX\u001b[0m \u001b[1;33m=\u001b[0m \u001b[0mhousing_data\u001b[0m\u001b[1;33m.\u001b[0m\u001b[0mdrop\u001b[0m\u001b[1;33m(\u001b[0m\u001b[1;34m'median_house_value'\u001b[0m\u001b[1;33m,\u001b[0m\u001b[0maxis\u001b[0m\u001b[1;33m=\u001b[0m\u001b[1;36m1\u001b[0m\u001b[1;33m)\u001b[0m\u001b[1;33m\u001b[0m\u001b[1;33m\u001b[0m\u001b[0m\n\u001b[1;32m----> 2\u001b[1;33m \u001b[0mY\u001b[0m \u001b[1;33m=\u001b[0m \u001b[0mhousing_data\u001b[0m\u001b[1;33m(\u001b[0m\u001b[1;34m'median_house_value'\u001b[0m\u001b[1;33m)\u001b[0m\u001b[1;33m\u001b[0m\u001b[1;33m\u001b[0m\u001b[0m\n\u001b[0m",
      "\u001b[1;31mTypeError\u001b[0m: 'DataFrame' object is not callable"
     ]
    }
   ],
   "source": [
    "X = housing_data.drop(['median_house_value'],axis=1)\n",
    "Y = housing_data('median_house_value')"
   ]
  },
  {
   "cell_type": "code",
   "execution_count": null,
   "metadata": {},
   "outputs": [],
   "source": []
  },
  {
   "cell_type": "code",
   "execution_count": null,
   "metadata": {},
   "outputs": [],
   "source": []
  },
  {
   "cell_type": "code",
   "execution_count": null,
   "metadata": {},
   "outputs": [],
   "source": []
  },
  {
   "cell_type": "code",
   "execution_count": null,
   "metadata": {},
   "outputs": [],
   "source": []
  }
 ],
 "metadata": {
  "kernelspec": {
   "display_name": "Python 3",
   "language": "python",
   "name": "python3"
  },
  "language_info": {
   "codemirror_mode": {
    "name": "ipython",
    "version": 3
   },
   "file_extension": ".py",
   "mimetype": "text/x-python",
   "name": "python",
   "nbconvert_exporter": "python",
   "pygments_lexer": "ipython3",
   "version": "3.8.3"
  }
 },
 "nbformat": 4,
 "nbformat_minor": 4
}
